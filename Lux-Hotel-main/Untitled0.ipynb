{
  "nbformat": 4,
  "nbformat_minor": 0,
  "metadata": {
    "colab": {
      "provenance": [],
      "mount_file_id": "1ipQmvu-1QqbBvwXUn3QKjpIo53Pes3s4",
      "authorship_tag": "ABX9TyMacRPCyD6YySPZXapz59z3",
      "include_colab_link": true
    },
    "kernelspec": {
      "name": "python3",
      "display_name": "Python 3"
    },
    "language_info": {
      "name": "python"
    }
  },
  "cells": [
    {
      "cell_type": "markdown",
      "metadata": {
        "id": "view-in-github",
        "colab_type": "text"
      },
      "source": [
        "<a href=\"https://colab.research.google.com/github/Tshanduko-21/Lux-Hotel/blob/main/Untitled0.ipynb\" target=\"_parent\"><img src=\"https://colab.research.google.com/assets/colab-badge.svg\" alt=\"Open In Colab\"/></a>"
      ]
    },
    {
      "cell_type": "code",
      "execution_count": 22,
      "metadata": {
        "id": "mcf6okqHo6-o",
        "colab": {
          "base_uri": "https://localhost:8080/"
        },
        "outputId": "c33f46b5-2cb7-4cec-c883-d962f988b727"
      },
      "outputs": [
        {
          "output_type": "stream",
          "name": "stdout",
          "text": [
            "Country                           0\n",
            "Region                            0\n",
            "Population                        0\n",
            "Under15                           0\n",
            "Over60                            0\n",
            "FertilityRate                    11\n",
            "LifeExpectancy                    0\n",
            "ChildMortality                    0\n",
            "CellularSubscribers              10\n",
            "LiteracyRate                     91\n",
            "GNI                              32\n",
            "PrimarySchoolEnrollmentMale      93\n",
            "PrimarySchoolEnrollmentFemale    93\n",
            "dtype: int64\n",
            "Country                          0\n",
            "Region                           0\n",
            "Population                       0\n",
            "Under15                          0\n",
            "Over60                           0\n",
            "FertilityRate                    0\n",
            "LifeExpectancy                   0\n",
            "ChildMortality                   0\n",
            "CellularSubscribers              0\n",
            "LiteracyRate                     0\n",
            "GNI                              0\n",
            "PrimarySchoolEnrollmentMale      0\n",
            "PrimarySchoolEnrollmentFemale    0\n",
            "dtype: int64\n"
          ]
        },
        {
          "output_type": "stream",
          "name": "stderr",
          "text": [
            "<ipython-input-22-cb5f9b2e1111>:11: FutureWarning: Dropping of nuisance columns in DataFrame reductions (with 'numeric_only=None') is deprecated; in a future version this will raise TypeError.  Select only valid columns before calling the reduction.\n",
            "  data.fillna(data.mean(), inplace=True)\n"
          ]
        }
      ],
      "source": [
        "import pandas as pd\n",
        "import numpy as np\n",
        "import matplotlib.pyplot as plt\n",
        "\n",
        "data = pd.read_csv(\"/content/drive/MyDrive/Tutorial/data.csv\")\n",
        "\n",
        "# check for missing values\n",
        "print(data.isnull().sum())\n",
        "\n",
        "# drop the missing values\n",
        "data.fillna(data.mean(), inplace=True)\n",
        "\n",
        "\n",
        "# check for missing values again\n",
        "print(data.isnull().sum())"
      ]
    },
    {
      "cell_type": "code",
      "source": [
        "# country with lowest % of population under 15\n",
        "print(data[data['Under15'] == data['Under15'].min()])\n",
        "\n",
        "# country with highest % of population under 15\n",
        "print(data[data['Under15'] == data['Under15'].max()])\n",
        "\n",
        "# group the data by region and find the mean of Over60\n",
        "region_over60 = data.groupby('Region')['Over60'].mean().sort_values(ascending=False)\n",
        "\n",
        "# print the region with the highest % of population over 60\n",
        "print(region_over60.head(1))\n",
        "\n",
        "# plot a scatter plot of fertility rate vs GNI\n",
        "plt.scatter(data['FertilityRate'], data['GNI'])\n",
        "plt.xlabel('Fertility Rate')\n",
        "plt.ylabel('GNI')\n",
        "plt.show()\n",
        "\n",
        "# find the correlation between fertility rate and GNI\n",
        "print(np.corrcoef(data['FertilityRate'], data['GNI']))\n",
        "\n",
        "# plot a scatter plot of fertility rate vs GNI\n",
        "plt.scatter(data['FertilityRate'], data['GNI'])\n",
        "plt.xlabel('Fertility Rate')\n",
        "plt.ylabel('GNI')\n",
        "plt.show()\n",
        "\n",
        "# find the correlation between fertility rate and GNI\n",
        "print(np.corrcoef(data['FertilityRate'], data['GNI']))\n",
        "\n",
        "# group the data by region and find the mean of ChildMortality\n",
        "region_child_mortality = data.groupby('Region')['ChildMortality'].mean().sort_values()\n",
        "\n",
        "# print the regions with the lowest child mortality rates\n",
        "print(region_child_mortality.head(10))\n",
        "\n",
        "\n",
        "\n"
      ],
      "metadata": {
        "id": "6cFZE1NCuU7B",
        "colab": {
          "base_uri": "https://localhost:8080/",
          "height": 1000
        },
        "outputId": "e52eb5dc-afdd-4192-a4e4-86cac02a828e"
      },
      "execution_count": 23,
      "outputs": [
        {
          "output_type": "stream",
          "name": "stdout",
          "text": [
            "   Country           Region  Population  Under15  Over60  FertilityRate  \\\n",
            "85   Japan  Western Pacific      127000    13.12   31.92           1.39   \n",
            "\n",
            "    LifeExpectancy  ChildMortality  CellularSubscribers  LiteracyRate  \\\n",
            "85              83             3.0               104.95      83.71068   \n",
            "\n",
            "        GNI  PrimarySchoolEnrollmentMale  PrimarySchoolEnrollmentFemale  \n",
            "85  35330.0                    90.850495                      89.632673  \n",
            "    Country  Region  Population  Under15  Over60  FertilityRate  \\\n",
            "123   Niger  Africa       17157    49.99    4.26           7.58   \n",
            "\n",
            "     LifeExpectancy  ChildMortality  CellularSubscribers  LiteracyRate    GNI  \\\n",
            "123              56           113.5                29.52      83.71068  720.0   \n",
            "\n",
            "     PrimarySchoolEnrollmentMale  PrimarySchoolEnrollmentFemale  \n",
            "123                         64.2                           52.0  \n",
            "Region\n",
            "Europe    19.774906\n",
            "Name: Over60, dtype: float64\n"
          ]
        },
        {
          "output_type": "display_data",
          "data": {
            "text/plain": [
              "<Figure size 432x288 with 1 Axes>"
            ],
            "image/png": "[encoded data removed]"
          },
          "metadata": {
            "needs_background": "light"
          }
        },
        {
          "output_type": "stream",
          "name": "stdout",
          "text": [
            "[[ 1.         -0.51527293]\n",
            " [-0.51527293  1.        ]]\n"
          ]
        },
        {
          "output_type": "display_data",
          "data": {
            "text/plain": [
              "<Figure size 432x288 with 1 Axes>"
            ],
            "image/png": "[encoded data removed]"
          },
          "metadata": {
            "needs_background": "light"
          }
        },
        {
          "output_type": "stream",
          "name": "stdout",
          "text": [
            "[[ 1.         -0.51527293]\n",
            " [-0.51527293  1.        ]]\n",
            "Region\n",
            "Europe                   10.050943\n",
            "Americas                 19.322857\n",
            "Western Pacific          24.711111\n",
            "South-East Asia          35.045455\n",
            "Eastern Mediterranean    40.250000\n",
            "Africa                   84.036957\n",
            "Name: ChildMortality, dtype: float64\n"
          ]
        }
      ]
    },
    {
      "cell_type": "code",
      "source": [
        "# Conclusion\n",
        "print(\"The data set contains demographic and health information for countries in different regions. From our analysis, we can see that the regions with the lowest child mortality rates are ...\")\n",
        "\n",
        "# Insights\n",
        "print(\"Additionally, we found that life expectancy varies across different regions. The box-and-whisker plot shows that the median life expectancy is highest in the ...\")"
      ],
      "metadata": {
        "colab": {
          "base_uri": "https://localhost:8080/"
        },
        "id": "HePJqYTjLY9o",
        "outputId": "3d8fd90e-5e33-4c4e-aabe-cc783cc46a45"
      },
      "execution_count": 24,
      "outputs": [
        {
          "output_type": "stream",
          "name": "stdout",
          "text": [
            "The data set contains demographic and health information for countries in different regions. From our analysis, we can see that the regions with the lowest child mortality rates are ...\n",
            "Additionally, we found that life expectancy varies across different regions. The box-and-whisker plot shows that the median life expectancy is highest in the ...\n"
          ]
        }
      ]
    }
  ]
}